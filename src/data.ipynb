{
 "cells": [
  {
   "cell_type": "code",
   "execution_count": 1,
   "metadata": {
    "ExecuteTime": {
     "end_time": "2023-12-08T23:21:38.380654Z",
     "start_time": "2023-12-08T23:21:37.969196Z"
    }
   },
   "outputs": [],
   "source": [
    "import pandas as pd\n",
    "import os\n",
    "from itertools import chain\n",
    "import numpy as np"
   ]
  },
  {
   "cell_type": "code",
   "execution_count": 2,
   "metadata": {
    "ExecuteTime": {
     "end_time": "2023-12-08T23:21:39.014711Z",
     "start_time": "2023-12-08T23:21:38.379632Z"
    }
   },
   "outputs": [],
   "source": [
    "directory = '../Data'  # Directory where the pickle files are stored\n",
    "pickle_files = [os.path.join(directory, file) for file in os.listdir(directory) if file.endswith('.pickle')]\n",
    "\n",
    "dataframes = []\n",
    "for file in pickle_files:\n",
    "    s = pd.read_pickle(file)\n",
    "    flattened_list = list(chain.from_iterable(s))\n",
    "\n",
    "    # Create a DataFrame\n",
    "    df = pd.DataFrame(flattened_list, columns=['ID', 'DateTime'])\n",
    "    dataframes.append(df)\n",
    "\n",
    "combined_df = pd.concat(dataframes, ignore_index=True)\n"
   ]
  },
  {
   "cell_type": "code",
   "execution_count": 3,
   "metadata": {
    "ExecuteTime": {
     "end_time": "2023-12-08T23:21:39.033497Z",
     "start_time": "2023-12-08T23:21:39.018007Z"
    }
   },
   "outputs": [],
   "source": [
    "counts=combined_df.groupby('ID').count().sort_values(by='ID').reset_index()\n",
    "total_counts = counts['DateTime'].sum()\n",
    "\n",
    "\n",
    "# Calculate the density for each 'ID'\n",
    "density = counts['DateTime'] / total_counts\n",
    "\n",
    "\n",
    "counts['density'] = density\n",
    "grid_30x30 = np.zeros((30, 30))\n",
    "\n",
    "# Iterate over the DataFrame and assign densities to the grid\n",
    "for index, row in counts.iterrows():\n",
    "    # Ensure the ID is within the valid range (0 to 899)\n",
    "    if 0 <= row['ID'] < 900:\n",
    "        row_idx = row['ID'] // 30  # Calculate row index\n",
    "        col_idx = row['ID'] % 30   # Calculate column index\n",
    "        if grid_30x30[int(row_idx), int(col_idx)]==0:\n",
    "            grid_30x30[int(row_idx), int(col_idx)] = row['density']\n",
    "        else:\n",
    "            print(\"Duplicate\")\n",
    "            print(int(row_idx), int(col_idx))"
   ]
  },
  {
   "cell_type": "code",
   "execution_count": 5,
   "metadata": {
    "ExecuteTime": {
     "end_time": "2023-12-08T23:31:02.164950Z",
     "start_time": "2023-12-08T23:31:02.162726Z"
    }
   },
   "outputs": [
    {
     "name": "stdout",
     "output_type": "stream",
     "text": [
      "Restricted license - for non-production use only - expires 2025-11-24\n",
      "Gurobi license is valid.\n"
     ]
    }
   ],
   "source": [
    "import gurobipy as gp\n",
    "from gurobipy import GRB\n",
    "def check_gurobi_license():\n",
    "    try:\n",
    "        # This will initialize a Gurobi environment\n",
    "        env = gp.Env()\n",
    "        print(\"Gurobi license is valid.\")\n",
    "        env.dispose()  # Dispose of the environment object when done\n",
    "    except gp.GurobiError as e:\n",
    "        print(f\"Gurobi Error: {e}\")\n",
    "\n",
    "check_gurobi_license()"
   ]
  },
  {
   "cell_type": "code",
   "execution_count": null,
   "outputs": [],
   "source": [
    "def update_density_grid(current_time,combined_df):\n",
    "    # Code to update the density grid every 10 days\n",
    "    subset= combined_df[combined_df.DateTime<current_time+pd.Timedelta(days=10)]\n",
    "    \n",
    "    counts=subset.groupby('ID').count().sort_values(by='ID').reset_index()\n",
    "    total_counts = counts['DateTime'].sum()\n",
    "    \n",
    "\n",
    "    # Calculate the density for each 'ID'\n",
    "    density = counts['DateTime'] / total_counts\n",
    "\n",
    "\n",
    "    counts['density'] = density\n",
    "    counts\n",
    "    grid_30x30 = np.zeros((30, 30))\n",
    "\n",
    "    # Iterate over the DataFrame and assign densities to the grid\n",
    "    for index, row in counts.iterrows():\n",
    "        # Ensure the ID is within the valid range (0 to 899)\n",
    "        if 0 <= row['ID'] < 900:\n",
    "            row_idx = row['ID'] // 30  # Calculate row index\n",
    "            col_idx = row['ID'] % 30   # Calculate column index\n",
    "            if grid_30x30[int(row_idx), int(col_idx)]==0:\n",
    "                grid_30x30[int(row_idx), int(col_idx)] = row['density']\n",
    "            else:\n",
    "                print(\"Duplicate\")\n",
    "                print(int(row_idx), int(col_idx))\n",
    "    \n",
    "    return grid_30x30\n",
    "\n",
    "def solve_p_median(grid, p):\n",
    "    m = gp.Model(\"p_median\")\n",
    "\n",
    "    # Assuming grid is a 2D array where grid[i][j] represents the accident density at that cell\n",
    "\n",
    "    num_rows = len(grid)\n",
    "    num_cols = len(grid[0])\n",
    "    num_cells = num_rows * num_cols\n",
    "\n",
    "    # Decision Variables\n",
    "    # x[i, j] = 1 if a facility is placed at cell (i, j), otherwise 0\n",
    "    x = m.addVars(num_rows, num_cols, vtype=GRB.BINARY, name=\"x\")\n",
    "\n",
    "    # y[i, j, k, l] = 1 if cell (i, j) is assigned to facility at cell (k, l), otherwise 0\n",
    "    y = m.addVars(num_rows, num_cols, num_rows, num_cols, vtype=GRB.BINARY, name=\"y\")\n",
    "\n",
    "    # Objective Function: Minimize the weighted sum of distances\n",
    "    m.setObjective(gp.quicksum(grid[i][j] * y[i, j, k, l] * (np.abs(i-k)+ np.abs(j-l))\n",
    "                               for i in range(num_rows) for j in range(num_cols)\n",
    "                               for k in range(num_rows) for l in range(num_cols)), GRB.MINIMIZE)\n",
    "\n",
    "    # Constraints\n",
    "\n",
    "    # Constraint 1: Exactly p facilities\n",
    "    m.addConstr(x.sum() == p, \"facility_count\")\n",
    "\n",
    "    # Constraint 2: Each cell must be assigned to one facility\n",
    "    for i in range(num_rows):\n",
    "        for j in range(num_cols):\n",
    "            m.addConstr(gp.quicksum(y[i, j, k, l] for k in range(num_rows) for l in range(num_cols)) == 1, f\"assign_{i}_{j}\")\n",
    "\n",
    "    # Constraint 3: A cell can be assigned to a facility only if the facility is open\n",
    "    for i in range(num_rows):\n",
    "        for j in range(num_cols):\n",
    "            for k in range(num_rows):\n",
    "                for l in range(num_cols):\n",
    "                    m.addConstr(y[i, j, k, l] <= x[k, l], f\"open_{i}_{j}_{k}_{l}\")\n",
    "\n",
    "    # Solve the model\n",
    "    m.optimize()\n",
    "\n",
    "    # Extract and print the solution\n",
    "    if m.status == GRB.OPTIMAL:\n",
    "        solution_x = m.getAttr('x', x)\n",
    "        solution_y = m.getAttr('x', y)\n",
    "\n",
    "        # Print the location of facilities\n",
    "        print(\"Facility Locations:\")\n",
    "        for i in range(num_rows):\n",
    "            for j in range(num_cols):\n",
    "                if solution_x[i, j] > 0.5:\n",
    "                    print(f\"Facility at cell ({i}, {j})\")\n",
    "\n",
    "        # Additional code to interpret and use the solution_y variables may be added as needed\n",
    "    else:\n",
    "        print(\"No optimal solution found\")\n",
    "\n",
    "\n",
    "# Main loop\n",
    "current_time=combined_df.DateTime.min()\n",
    "while (current_time<combined_df.DateTime.max()):\n",
    "    density_grid = update_density_grid(current_time,combined_df)\n",
    "    solve_p_median(density_grid, 3)\n",
    "    current_time+=pd.Timedelta(days=10)\n"
   ],
   "metadata": {
    "collapsed": false
   }
  },
  {
   "cell_type": "code",
   "execution_count": null,
   "metadata": {},
   "outputs": [],
   "source": [
    "for _ in range(3):\n",
    "    density_grid = update_density_grid()\n",
    "    solve_p_median(density_grid, p)"
   ]
  }
 ],
 "metadata": {
  "kernelspec": {
   "display_name": "myenv",
   "language": "python",
   "name": "python3"
  },
  "language_info": {
   "codemirror_mode": {
    "name": "ipython",
    "version": 3
   },
   "file_extension": ".py",
   "mimetype": "text/x-python",
   "name": "python",
   "nbconvert_exporter": "python",
   "pygments_lexer": "ipython3",
   "version": "3.9.15"
  }
 },
 "nbformat": 4,
 "nbformat_minor": 2
}
